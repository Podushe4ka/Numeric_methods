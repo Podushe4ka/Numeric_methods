{
 "cells": [
  {
   "cell_type": "code",
   "execution_count": 4,
   "id": "ce418a52",
   "metadata": {},
   "outputs": [
    {
     "name": "stdout",
     "output_type": "stream",
     "text": [
      "Оценка параметра a при b=0.5: 0.560\n"
     ]
    }
   ],
   "source": [
    "import pandas as pd\n",
    "\n",
    "data = {\n",
    "    'M': [1.2, 1.5, 1.7, 2.0, 2.5, 3.0],\n",
    "    'Cd': [0.8, 0.6, 0.4, 0.33, 0.23, 0.155]\n",
    "}\n",
    "df = pd.DataFrame(data)\n",
    "\n",
    "df['X'] = 1 / ((df['M']**2 - 1)**0.5)\n",
    "\n",
    "\n",
    "a_est = (df['Cd'] * df['X']).sum() / (df['X']**2).sum() # Формула из приравнивания производной функции потерь MSE нулю\n",
    "print(f\"Оценка параметра a при b=0.5: {a_est:.3f}\")"
   ]
  }
 ],
 "metadata": {
  "kernelspec": {
   "display_name": "Python 3",
   "language": "python",
   "name": "python3"
  },
  "language_info": {
   "codemirror_mode": {
    "name": "ipython",
    "version": 3
   },
   "file_extension": ".py",
   "mimetype": "text/x-python",
   "name": "python",
   "nbconvert_exporter": "python",
   "pygments_lexer": "ipython3",
   "version": "3.13.3"
  }
 },
 "nbformat": 4,
 "nbformat_minor": 5
}
